# %% [markdown] {"id":"view-in-github"}
# <a href="https://colab.research.google.com/github/MOHITRAJDEO12345/ml_projects_basic/blob/main/Diabetes.ipynb" target="_parent"><img src="https://colab.research.google.com/assets/colab-badge.svg" alt="Open In Colab"/></a>

# %% [markdown] {"id":"LnPbntVRnfvV"}
# Importing the Dependencies

# %% [code] {"id":"-71UtHzNVWjB"}
import numpy as np
import pandas as pd
from sklearn.model_selection import train_test_split
from sklearn import svm
from sklearn.metrics import accuracy_score

# %% [markdown] {"id":"bmfOfG8joBBy"}
# Data Collection and Analysis
# 
# PIMA Diabetes Dataset

# %% [code] {"id":"Xpw6Mj_pn_TL"}
# loading the diabetes dataset to a pandas DataFrame
# Install dependencies as needed:
# pip install kagglehub[pandas-datasets]
 # Install dependencies as needed:
# pip install kagglehub[pandas-datasets]
# import kagglehub
# from kagglehub import KaggleDatasetAdapter

# # Set the path to the file you'd like to load
# file_path = ""

# # Load the latest version
# diabetes_dataset = kagglehub.load_dataset(
#   KaggleDatasetAdapter.PANDAS,
#   "uciml/pima-indians-diabetes-database",
#   file_path,
#   # Provide any additional arguments like 
#   # sql_query or pandas_kwargs. See the 
#   # documenation for more information:
#   # https://github.com/Kaggle/kagglehub/blob/main/README.md#kaggledatasetadapterpandas
# )




diabetes_dataset = pd.read_csv('/kaggle/input/pima-indians-diabetes-database/diabetes.csv')

# %% [code] {"id":"-tjO09ncovoh","outputId":"3880416d-0521-44b3-a898-27cdaa739304"}
# printing the first 5 rows of the dataset
diabetes_dataset.head()

# %% [code] {"id":"lynParo6pEMB","outputId":"9f951ccf-c2f0-4940-f737-d31401f6a999"}
# number of rows and Columns in this dataset
diabetes_dataset.shape

# %% [code] {"id":"3NDJOlrEpmoL","outputId":"13652112-7c3f-4220-f808-06fe41afb11e"}
# getting the statistical measures of the data
diabetes_dataset.describe()

# %% [code] {"id":"LrpHzaGpp5dQ","outputId":"40ae4a51-ecf3-4803-f70a-35edf16b88f1"}
diabetes_dataset['Outcome'].value_counts()

# %% [markdown] {"id":"cB1qRaNcqeh5"}
# 0 --> Non-Diabetic
# 
# 1 --> Diabetic

# %% [code] {"id":"I6MWR0k_qSCK","outputId":"4b6517fa-e85d-44dd-e0ac-fe59738b0b7b"}
diabetes_dataset.groupby('Outcome').mean()

# %% [code] {"id":"RoDW7l9mqqHZ"}
# separating the data and labels
X = diabetes_dataset.drop(columns = 'Outcome', axis=1)
Y = diabetes_dataset['Outcome']

# %% [code] {"id":"3eiRW9M9raMm","outputId":"247f6ae4-7a0b-4078-b106-5bf160637a83"}
print(X)

# %% [code] {"id":"AoxgTJAMrcCl","outputId":"0c35d040-d0cd-47d5-b203-83f8a5555767"}
print(Y)

# %% [markdown] {"id":"gHciEFkxsoQP"}
# Train Test Split

# %% [code] {"id":"AEfKGj_yslvD"}
X_train, X_test, Y_train, Y_test = train_test_split(X,Y, test_size = 0.2, stratify=Y, random_state=2)

# %% [code] {"id":"DR05T-o0t3FQ","outputId":"d4665fd6-df2d-4f8e-81bd-ed44f70860f8"}
print(X.shape, X_train.shape, X_test.shape)

# %% [markdown] {"id":"ElJ3tkOtuC_n"}
# Training the Model

# %% [code] {"id":"5szLWHlNt9xc"}
classifier = svm.SVC(kernel='linear')

# %% [code] {"id":"ncJWY_7suPAb","outputId":"050cfd0c-17cd-49f9-a172-82ad41e90977"}
#training the support vector Machine Classifier
classifier.fit(X_train, Y_train)

# %% [markdown] {"id":"UV4-CAfquiyP"}
# Model Evaluation

# %% [markdown] {"id":"yhAjGPJWunXa"}
# Accuracy Score

# %% [code] {"id":"fJLEPQK7ueXp"}
# accuracy score on the training data
X_train_prediction = classifier.predict(X_train)
training_data_accuracy = accuracy_score(X_train_prediction, Y_train)

# %% [code] {"id":"mmJ22qhVvNwj","outputId":"c4d1c9f5-c2cc-42e6-d165-bf05f290ee53"}
print('Accuracy score of the training data : ', training_data_accuracy)

# %% [code] {"id":"G2CICFMEvcCl"}
# accuracy score on the test data
X_test_prediction = classifier.predict(X_test)
test_data_accuracy = accuracy_score(X_test_prediction, Y_test)

# %% [code] {"id":"i2GcW_t_vz7C","outputId":"be99746d-8e70-45e5-a5c0-11377e5d1a97"}
print('Accuracy score of the test data : ', test_data_accuracy)

# %% [markdown] {"id":"gq8ZX1xpwPF5"}
# Making a Predictive System

# %% [code] {"id":"U-ULRe4yv5tH","outputId":"6bb1cf58-6c9c-4570-8264-07ced6642911"}
input_data = (5,166,72,19,175,25.8,0.587,51)

# changing the input_data to numpy array
input_data_as_numpy_array = np.asarray(input_data)

# reshape the array as we are predicting for one instance
input_data_reshaped = input_data_as_numpy_array.reshape(1,-1)

prediction = classifier.predict(input_data_reshaped)
print(prediction)

if (prediction[0] == 0):
  print('The person is not diabetic')
else:
  print('The person is diabetic')

# %% [markdown] {"id":"vgL6wblpQUtX"}
# Saving the trained model

# %% [code] {"id":"Nn60MdxByjgz"}
import pickle

# %% [code] {"id":"cWzPQs4mQZN_"}
filename = 'trained_model.sav'
pickle.dump(classifier, open(filename, 'wb'))

# %% [code] {"id":"Wk1T2sMcQ6_U"}
# loading the saved model
loaded_model = pickle.load(open('trained_model.sav', 'rb'))

# %% [code] {"id":"Bd5OpxHnRPyy","outputId":"6ca1a861-d389-42ed-b84d-137b86d175b3"}
input_data = (5,166,72,19,175,25.8,0.587,51)

# changing the input_data to numpy array
input_data_as_numpy_array = np.asarray(input_data)

# reshape the array as we are predicting for one instance
input_data_reshaped = input_data_as_numpy_array.reshape(1,-1)

prediction = loaded_model.predict(input_data_reshaped)
print(prediction)

if (prediction[0] == 0):
  print('The person is not diabetic')
else:
  print('The person is diabetic')